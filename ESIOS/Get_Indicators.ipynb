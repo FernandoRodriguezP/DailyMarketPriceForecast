{
 "cells": [
  {
   "cell_type": "code",
   "execution_count": 11,
   "metadata": {
    "collapsed": true
   },
   "outputs": [],
   "source": [
    "import pandas as pd\n",
    "import numpy as np\n",
    "from datetime import datetime, timedelta\n",
    "from ESIOS import *"
   ]
  },
  {
   "cell_type": "markdown",
   "metadata": {},
   "source": [
    "Create dictionary with Indicator Name and Number of Indicator"
   ]
  },
  {
   "cell_type": "code",
   "execution_count": 12,
   "metadata": {
    "collapsed": true
   },
   "outputs": [],
   "source": [
    "indicatorsDict = {'Previsión diaria de la demanda eléctrica peninsular' : 460,\n",
    "                  'Generación prevista Solar' : 10034,\n",
    "                  'Previsión de la producción eólica nacional peninsular' : 541,  \n",
    "                  'Precio medio horario componente mercado diario' : 805}\n",
    "\n",
    "indicatorsItems = indicatorsDict.items()   # To iterate over name and number at the same time"
   ]
  },
  {
   "cell_type": "markdown",
   "metadata": {},
   "source": [
    "Download indicators data from 01/01/2014 to 31/12/2017 and save it into `\".csv\"` files."
   ]
  },
  {
   "cell_type": "code",
   "execution_count": 13,
   "metadata": {},
   "outputs": [
    {
     "name": "stdout",
     "output_type": "stream",
     "text": [
      "Fecha de inicio: 2014-01-01\n",
      "Fecha de fin: 2017-12-31\n",
      "Analizando indicadores...\n",
      "Descargando Previsión diaria de la demanda eléctrica peninsular\n",
      "Fecha de inicio: 2014-01-01\n",
      "Fecha de fin: 2017-12-31\n",
      "Analizando indicadores...\n",
      "Descargando Generación prevista Solar\n",
      "Fecha de inicio: 2014-01-01\n",
      "Fecha de fin: 2017-12-31\n",
      "Analizando indicadores...\n",
      "Descargando Previsión de la producción eólica nacional peninsular\n",
      "Fecha de inicio: 2014-01-01\n",
      "Fecha de fin: 2017-12-31\n",
      "Analizando indicadores...\n",
      "Descargando Precio medio horario componente mercado diario \n"
     ]
    }
   ],
   "source": [
    "if __name__ == '__main__':\n",
    "    for indicatorName, indicatorValue in indicatorsItems:\n",
    "        fechaInicio = \"2014-01-01\"\n",
    "        fechaFin = \"2017-12-31\"\n",
    "        print ('Fecha de inicio: ' + fechaInicio)\n",
    "        print ('Fecha de fin: ' + fechaFin)\n",
    "        start_ = fechaInicio + 'T00:00:00'\n",
    "        end_ = fechaFin + 'T23:50:00'\n",
    "        token = 'XXXX'    # Introduce ESIOS token\n",
    "        esios = ESIOS(token)\n",
    "        indicators_ = list()\n",
    "        indicators_.append(indicatorValue)\n",
    "        Names3 = esios.get_names(indicators_)\n",
    "        dfmul , df_list, names = esios.get_multiple_series_Spain(indicators_, start_, end_)\n",
    "        df = dfmul[names]\n",
    "        df = df.reset_index()\n",
    "        df.columns = ['Fecha', indicatorName]\n",
    "        df['Fecha'] = df['Fecha'].str.replace('.', ' ')\n",
    "        df['Fecha'] = df['Fecha'].str.split().str[0]\n",
    "        df['Fecha'] = df['Fecha'].str.replace('T', ' ')\n",
    "        # Export to .csv file\n",
    "        df.to_csv(path_or_buf= 'Data/' + indicatorName + '.csv', sep='^', index=False)"
   ]
  },
  {
   "cell_type": "markdown",
   "metadata": {},
   "source": [
    "Read `'.csv'` files generated in different DataFrames."
   ]
  },
  {
   "cell_type": "code",
   "execution_count": 14,
   "metadata": {
    "collapsed": true
   },
   "outputs": [],
   "source": [
    "with open('Data/Previsión diaria de la demanda eléctrica peninsular.csv', 'r') as fichero:     \n",
    "    dfDemanda = pd.read_csv(fichero, sep = '^', dtype='object')\n",
    "    dfDemanda['Fecha']=pd.to_datetime(dfDemanda['Fecha'])\n",
    "    \n",
    "with open('Data/Generación prevista Solar.csv', 'r') as fichero:     \n",
    "    dfSolar = pd.read_csv(fichero, sep = '^', dtype='object')\n",
    "    dfSolar['Fecha']=pd.to_datetime(dfSolar['Fecha'])\n",
    "    \n",
    "with open('Data/Previsión de la producción eólica nacional peninsular.csv', 'r') as fichero:     \n",
    "    dfEolica = pd.read_csv(fichero, sep = '^', dtype='object')\n",
    "    dfEolica['Fecha']=pd.to_datetime(dfEolica['Fecha'])\n",
    "    \n",
    "with open('Data/Precio medio horario componente mercado diario.csv', 'r') as fichero:     \n",
    "    dfPrecio = pd.read_csv(fichero, sep = '^', dtype='object')\n",
    "    dfPrecio['Fecha']=pd.to_datetime(dfPrecio['Fecha']) "
   ]
  },
  {
   "cell_type": "code",
   "execution_count": 15,
   "metadata": {},
   "outputs": [
    {
     "data": {
      "text/html": [
       "<div>\n",
       "<style>\n",
       "    .dataframe thead tr:only-child th {\n",
       "        text-align: right;\n",
       "    }\n",
       "\n",
       "    .dataframe thead th {\n",
       "        text-align: left;\n",
       "    }\n",
       "\n",
       "    .dataframe tbody tr th {\n",
       "        vertical-align: top;\n",
       "    }\n",
       "</style>\n",
       "<table border=\"1\" class=\"dataframe\">\n",
       "  <thead>\n",
       "    <tr style=\"text-align: right;\">\n",
       "      <th></th>\n",
       "      <th>Fecha</th>\n",
       "      <th>Previsión diaria de la demanda eléctrica peninsular</th>\n",
       "    </tr>\n",
       "  </thead>\n",
       "  <tbody>\n",
       "    <tr>\n",
       "      <th>8717</th>\n",
       "      <td>2014-12-30 05:00:00</td>\n",
       "      <td>22281.0</td>\n",
       "    </tr>\n",
       "    <tr>\n",
       "      <th>18241</th>\n",
       "      <td>2016-01-31 01:00:00</td>\n",
       "      <td>23841.0</td>\n",
       "    </tr>\n",
       "    <tr>\n",
       "      <th>27506</th>\n",
       "      <td>2017-02-20 02:00:00</td>\n",
       "      <td>22465.0</td>\n",
       "    </tr>\n",
       "    <tr>\n",
       "      <th>15721</th>\n",
       "      <td>2015-10-18 02:00:00</td>\n",
       "      <td>20134.0</td>\n",
       "    </tr>\n",
       "    <tr>\n",
       "      <th>2405</th>\n",
       "      <td>2014-04-11 06:00:00</td>\n",
       "      <td>24117.0</td>\n",
       "    </tr>\n",
       "  </tbody>\n",
       "</table>\n",
       "</div>"
      ],
      "text/plain": [
       "                    Fecha Previsión diaria de la demanda eléctrica peninsular\n",
       "8717  2014-12-30 05:00:00                                            22281.0 \n",
       "18241 2016-01-31 01:00:00                                            23841.0 \n",
       "27506 2017-02-20 02:00:00                                            22465.0 \n",
       "15721 2015-10-18 02:00:00                                            20134.0 \n",
       "2405  2014-04-11 06:00:00                                            24117.0 "
      ]
     },
     "execution_count": 15,
     "metadata": {},
     "output_type": "execute_result"
    }
   ],
   "source": [
    "dfDemanda.sample(5)"
   ]
  },
  {
   "cell_type": "code",
   "execution_count": 16,
   "metadata": {},
   "outputs": [
    {
     "data": {
      "text/html": [
       "<div>\n",
       "<style>\n",
       "    .dataframe thead tr:only-child th {\n",
       "        text-align: right;\n",
       "    }\n",
       "\n",
       "    .dataframe thead th {\n",
       "        text-align: left;\n",
       "    }\n",
       "\n",
       "    .dataframe tbody tr th {\n",
       "        vertical-align: top;\n",
       "    }\n",
       "</style>\n",
       "<table border=\"1\" class=\"dataframe\">\n",
       "  <thead>\n",
       "    <tr style=\"text-align: right;\">\n",
       "      <th></th>\n",
       "      <th>Fecha</th>\n",
       "      <th>Generación prevista Solar</th>\n",
       "    </tr>\n",
       "  </thead>\n",
       "  <tbody>\n",
       "    <tr>\n",
       "      <th>2399</th>\n",
       "      <td>2014-04-11 00:00:00</td>\n",
       "      <td>315.3</td>\n",
       "    </tr>\n",
       "    <tr>\n",
       "      <th>16206</th>\n",
       "      <td>2015-11-07 06:00:00</td>\n",
       "      <td>12.7</td>\n",
       "    </tr>\n",
       "    <tr>\n",
       "      <th>10805</th>\n",
       "      <td>2015-03-27 05:00:00</td>\n",
       "      <td>12.7</td>\n",
       "    </tr>\n",
       "    <tr>\n",
       "      <th>4427</th>\n",
       "      <td>2014-07-04 12:00:00</td>\n",
       "      <td>5128.6</td>\n",
       "    </tr>\n",
       "    <tr>\n",
       "      <th>34810</th>\n",
       "      <td>2017-12-21 10:00:00</td>\n",
       "      <td>1570.9</td>\n",
       "    </tr>\n",
       "  </tbody>\n",
       "</table>\n",
       "</div>"
      ],
      "text/plain": [
       "                    Fecha Generación prevista Solar\n",
       "2399  2014-04-11 00:00:00                     315.3\n",
       "16206 2015-11-07 06:00:00                      12.7\n",
       "10805 2015-03-27 05:00:00                      12.7\n",
       "4427  2014-07-04 12:00:00                    5128.6\n",
       "34810 2017-12-21 10:00:00                    1570.9"
      ]
     },
     "execution_count": 16,
     "metadata": {},
     "output_type": "execute_result"
    }
   ],
   "source": [
    "dfSolar.sample(5)"
   ]
  },
  {
   "cell_type": "code",
   "execution_count": 17,
   "metadata": {},
   "outputs": [
    {
     "data": {
      "text/html": [
       "<div>\n",
       "<style>\n",
       "    .dataframe thead tr:only-child th {\n",
       "        text-align: right;\n",
       "    }\n",
       "\n",
       "    .dataframe thead th {\n",
       "        text-align: left;\n",
       "    }\n",
       "\n",
       "    .dataframe tbody tr th {\n",
       "        vertical-align: top;\n",
       "    }\n",
       "</style>\n",
       "<table border=\"1\" class=\"dataframe\">\n",
       "  <thead>\n",
       "    <tr style=\"text-align: right;\">\n",
       "      <th></th>\n",
       "      <th>Fecha</th>\n",
       "      <th>Previsión de la producción eólica nacional peninsular</th>\n",
       "    </tr>\n",
       "  </thead>\n",
       "  <tbody>\n",
       "    <tr>\n",
       "      <th>22438</th>\n",
       "      <td>2016-07-23 23:00:00</td>\n",
       "      <td>8444.0</td>\n",
       "    </tr>\n",
       "    <tr>\n",
       "      <th>7249</th>\n",
       "      <td>2014-10-30 01:00:00</td>\n",
       "      <td>2728.0</td>\n",
       "    </tr>\n",
       "    <tr>\n",
       "      <th>5422</th>\n",
       "      <td>2014-08-14 23:00:00</td>\n",
       "      <td>3937.0</td>\n",
       "    </tr>\n",
       "    <tr>\n",
       "      <th>30359</th>\n",
       "      <td>2017-06-19 00:00:00</td>\n",
       "      <td>5558.0</td>\n",
       "    </tr>\n",
       "    <tr>\n",
       "      <th>31826</th>\n",
       "      <td>2017-08-19 03:00:00</td>\n",
       "      <td>6348.0</td>\n",
       "    </tr>\n",
       "  </tbody>\n",
       "</table>\n",
       "</div>"
      ],
      "text/plain": [
       "                    Fecha  \\\n",
       "22438 2016-07-23 23:00:00   \n",
       "7249  2014-10-30 01:00:00   \n",
       "5422  2014-08-14 23:00:00   \n",
       "30359 2017-06-19 00:00:00   \n",
       "31826 2017-08-19 03:00:00   \n",
       "\n",
       "      Previsión de la producción eólica nacional peninsular  \n",
       "22438                                             8444.0     \n",
       "7249                                              2728.0     \n",
       "5422                                              3937.0     \n",
       "30359                                             5558.0     \n",
       "31826                                             6348.0     "
      ]
     },
     "execution_count": 17,
     "metadata": {},
     "output_type": "execute_result"
    }
   ],
   "source": [
    "dfEolica.sample(5)"
   ]
  },
  {
   "cell_type": "code",
   "execution_count": 18,
   "metadata": {},
   "outputs": [
    {
     "data": {
      "text/html": [
       "<div>\n",
       "<style>\n",
       "    .dataframe thead tr:only-child th {\n",
       "        text-align: right;\n",
       "    }\n",
       "\n",
       "    .dataframe thead th {\n",
       "        text-align: left;\n",
       "    }\n",
       "\n",
       "    .dataframe tbody tr th {\n",
       "        vertical-align: top;\n",
       "    }\n",
       "</style>\n",
       "<table border=\"1\" class=\"dataframe\">\n",
       "  <thead>\n",
       "    <tr style=\"text-align: right;\">\n",
       "      <th></th>\n",
       "      <th>Fecha</th>\n",
       "      <th>Precio medio horario componente mercado diario</th>\n",
       "    </tr>\n",
       "  </thead>\n",
       "  <tbody>\n",
       "    <tr>\n",
       "      <th>32179</th>\n",
       "      <td>2017-09-02 20:00:00</td>\n",
       "      <td>52.98</td>\n",
       "    </tr>\n",
       "    <tr>\n",
       "      <th>1595</th>\n",
       "      <td>2014-03-08 11:00:00</td>\n",
       "      <td>15.69</td>\n",
       "    </tr>\n",
       "    <tr>\n",
       "      <th>7585</th>\n",
       "      <td>2014-11-13 01:00:00</td>\n",
       "      <td>28.16</td>\n",
       "    </tr>\n",
       "    <tr>\n",
       "      <th>1017</th>\n",
       "      <td>2014-02-12 09:00:00</td>\n",
       "      <td>55.1</td>\n",
       "    </tr>\n",
       "    <tr>\n",
       "      <th>1368</th>\n",
       "      <td>2014-02-27 00:00:00</td>\n",
       "      <td>26.0</td>\n",
       "    </tr>\n",
       "  </tbody>\n",
       "</table>\n",
       "</div>"
      ],
      "text/plain": [
       "                    Fecha Precio medio horario componente mercado diario\n",
       "32179 2017-09-02 20:00:00                                          52.98\n",
       "1595  2014-03-08 11:00:00                                          15.69\n",
       "7585  2014-11-13 01:00:00                                          28.16\n",
       "1017  2014-02-12 09:00:00                                           55.1\n",
       "1368  2014-02-27 00:00:00                                           26.0"
      ]
     },
     "execution_count": 18,
     "metadata": {},
     "output_type": "execute_result"
    }
   ],
   "source": [
    "dfPrecio.sample(5)"
   ]
  }
 ],
 "metadata": {
  "kernelspec": {
   "display_name": "Python 3",
   "language": "python",
   "name": "python3"
  },
  "language_info": {
   "codemirror_mode": {
    "name": "ipython",
    "version": 3
   },
   "file_extension": ".py",
   "mimetype": "text/x-python",
   "name": "python",
   "nbconvert_exporter": "python",
   "pygments_lexer": "ipython3",
   "version": "3.6.3"
  }
 },
 "nbformat": 4,
 "nbformat_minor": 2
}
